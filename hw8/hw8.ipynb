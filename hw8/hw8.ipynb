{
 "cells": [
  {
   "cell_type": "code",
   "execution_count": 15,
   "metadata": {},
   "outputs": [],
   "source": [
    "# !wget https://github.com/SVizor42/ML_Zoomcamp/releases/download/bee-wasp-data/data.zip\n",
    "# !unzip data.zip"
   ]
  },
  {
   "cell_type": "code",
   "execution_count": 23,
   "metadata": {},
   "outputs": [],
   "source": [
    "from tensorflow import keras\n",
    "from keras.preprocessing.image import ImageDataGenerator\n",
    "import statistics"
   ]
  },
  {
   "cell_type": "code",
   "execution_count": 17,
   "metadata": {},
   "outputs": [],
   "source": [
    "inputs = keras.Input(shape=(150, 150, 3))\n",
    "conv = keras.layers.Conv2D(filters=32, kernel_size=(3,3), activation='relu')(inputs)\n",
    "pool = keras.layers.MaxPooling2D(pool_size=(2, 2))(conv)\n",
    "vect = keras.layers.Flatten()(pool)\n",
    "dense = keras.layers.Dense(64, activation='relu')(vect)\n",
    "outputs = keras.layers.Dense(1, activation='sigmoid')(dense)\n",
    "\n",
    "model = keras.Model(inputs, outputs)\n",
    "\n",
    "optimizer = keras.optimizers.SGD(learning_rate=0.002, momentum=0.8)\n",
    "loss = keras.losses.BinaryCrossentropy(from_logits=False)\n",
    "\n",
    "model.compile(\n",
    "    optimizer=optimizer,\n",
    "    loss=loss,\n",
    "    metrics=['accuracy']\n",
    ")"
   ]
  },
  {
   "cell_type": "markdown",
   "metadata": {},
   "source": [
    "# Question 1"
   ]
  },
  {
   "cell_type": "markdown",
   "metadata": {},
   "source": [
    "binary crossentropy"
   ]
  },
  {
   "cell_type": "markdown",
   "metadata": {},
   "source": [
    "# Question 2"
   ]
  },
  {
   "cell_type": "code",
   "execution_count": 18,
   "metadata": {},
   "outputs": [
    {
     "name": "stdout",
     "output_type": "stream",
     "text": [
      "Model: \"model_2\"\n",
      "_________________________________________________________________\n",
      " Layer (type)                Output Shape              Param #   \n",
      "=================================================================\n",
      " input_3 (InputLayer)        [(None, 150, 150, 3)]     0         \n",
      "                                                                 \n",
      " conv2d_2 (Conv2D)           (None, 148, 148, 32)      896       \n",
      "                                                                 \n",
      " max_pooling2d_2 (MaxPoolin  (None, 74, 74, 32)        0         \n",
      " g2D)                                                            \n",
      "                                                                 \n",
      " flatten_2 (Flatten)         (None, 175232)            0         \n",
      "                                                                 \n",
      " dense_4 (Dense)             (None, 64)                11214912  \n",
      "                                                                 \n",
      " dense_5 (Dense)             (None, 1)                 65        \n",
      "                                                                 \n",
      "=================================================================\n",
      "Total params: 11215873 (42.79 MB)\n",
      "Trainable params: 11215873 (42.79 MB)\n",
      "Non-trainable params: 0 (0.00 Byte)\n",
      "_________________________________________________________________\n"
     ]
    }
   ],
   "source": [
    "model.summary()"
   ]
  },
  {
   "cell_type": "markdown",
   "metadata": {},
   "source": [
    "896"
   ]
  },
  {
   "cell_type": "code",
   "execution_count": 19,
   "metadata": {},
   "outputs": [
    {
     "name": "stdout",
     "output_type": "stream",
     "text": [
      "Found 3677 images belonging to 2 classes.\n"
     ]
    },
    {
     "name": "stdout",
     "output_type": "stream",
     "text": [
      "Found 918 images belonging to 2 classes.\n"
     ]
    }
   ],
   "source": [
    "train_gen = ImageDataGenerator(\n",
    "    rescale=1./255\n",
    ")\n",
    "\n",
    "\n",
    "train_ds = train_gen.flow_from_directory(\n",
    "    './data/train',\n",
    "    target_size=(150, 150),\n",
    "    class_mode='binary',\n",
    "    batch_size=20,\n",
    "    shuffle=True\n",
    ")\n",
    "\n",
    "test_gen = ImageDataGenerator(\n",
    "    rescale=1./255\n",
    ")\n",
    "\n",
    "test_ds = test_gen.flow_from_directory(\n",
    "    './data/test',\n",
    "    target_size=(150, 150),\n",
    "    class_mode='binary',\n",
    "    batch_size=20,\n",
    "    shuffle=True\n",
    ")"
   ]
  },
  {
   "cell_type": "code",
   "execution_count": 21,
   "metadata": {},
   "outputs": [
    {
     "name": "stdout",
     "output_type": "stream",
     "text": [
      "Epoch 1/10\n",
      "184/184 [==============================] - 9s 50ms/step - loss: 0.3355 - accuracy: 0.8681 - val_loss: 0.5141 - val_accuracy: 0.7647\n",
      "Epoch 2/10\n",
      "184/184 [==============================] - 9s 51ms/step - loss: 0.3124 - accuracy: 0.8801 - val_loss: 0.5370 - val_accuracy: 0.7364\n",
      "Epoch 3/10\n",
      "184/184 [==============================] - 10s 52ms/step - loss: 0.2862 - accuracy: 0.8904 - val_loss: 0.6065 - val_accuracy: 0.7375\n",
      "Epoch 4/10\n",
      "184/184 [==============================] - 10s 53ms/step - loss: 0.2455 - accuracy: 0.9190 - val_loss: 0.5247 - val_accuracy: 0.7778\n",
      "Epoch 5/10\n",
      "184/184 [==============================] - 9s 51ms/step - loss: 0.2076 - accuracy: 0.9323 - val_loss: 0.5867 - val_accuracy: 0.7636\n",
      "Epoch 6/10\n",
      "184/184 [==============================] - 9s 51ms/step - loss: 0.1717 - accuracy: 0.9497 - val_loss: 0.6010 - val_accuracy: 0.7451\n",
      "Epoch 7/10\n",
      "184/184 [==============================] - 9s 51ms/step - loss: 0.1391 - accuracy: 0.9638 - val_loss: 0.6082 - val_accuracy: 0.7658\n",
      "Epoch 8/10\n",
      "184/184 [==============================] - 10s 52ms/step - loss: 0.1225 - accuracy: 0.9695 - val_loss: 0.6239 - val_accuracy: 0.7680\n",
      "Epoch 9/10\n",
      "184/184 [==============================] - 10s 53ms/step - loss: 0.1021 - accuracy: 0.9774 - val_loss: 0.6767 - val_accuracy: 0.7614\n",
      "Epoch 10/10\n",
      "184/184 [==============================] - 10s 52ms/step - loss: 0.0850 - accuracy: 0.9821 - val_loss: 0.7339 - val_accuracy: 0.7495\n"
     ]
    }
   ],
   "source": [
    "history = model.fit(\n",
    "    train_ds,\n",
    "    epochs=10,\n",
    "    validation_data=test_ds\n",
    ")"
   ]
  },
  {
   "cell_type": "markdown",
   "metadata": {},
   "source": [
    "# Question 3"
   ]
  },
  {
   "cell_type": "code",
   "execution_count": 27,
   "metadata": {},
   "outputs": [
    {
     "data": {
      "text/plain": [
       "0.9409844875335693"
      ]
     },
     "execution_count": 27,
     "metadata": {},
     "output_type": "execute_result"
    }
   ],
   "source": [
    "statistics.median(history.history['accuracy'])"
   ]
  },
  {
   "cell_type": "markdown",
   "metadata": {},
   "source": [
    "# Question 4"
   ]
  },
  {
   "cell_type": "code",
   "execution_count": 28,
   "metadata": {},
   "outputs": [
    {
     "data": {
      "text/plain": [
       "0.0905943554398084"
      ]
     },
     "execution_count": 28,
     "metadata": {},
     "output_type": "execute_result"
    }
   ],
   "source": [
    "statistics.stdev(history.history['loss'])"
   ]
  },
  {
   "cell_type": "code",
   "execution_count": 29,
   "metadata": {},
   "outputs": [
    {
     "name": "stdout",
     "output_type": "stream",
     "text": [
      "Found 3677 images belonging to 2 classes.\n"
     ]
    }
   ],
   "source": [
    "train_gen = ImageDataGenerator(\n",
    "    rescale=1./255,\n",
    "    rotation_range=50,\n",
    "    width_shift_range=0.1,\n",
    "    height_shift_range=0.1,\n",
    "    zoom_range=0.1,\n",
    "    horizontal_flip=True,\n",
    "    fill_mode='nearest'\n",
    "    )\n",
    "\n",
    "train_ds = train_gen.flow_from_directory(\n",
    "    './data/train',\n",
    "    target_size=(150, 150),\n",
    "    class_mode='binary',\n",
    "    batch_size=20,\n",
    "    shuffle=True\n",
    ")"
   ]
  },
  {
   "cell_type": "markdown",
   "metadata": {},
   "source": [
    "# Question 5"
   ]
  },
  {
   "cell_type": "code",
   "execution_count": 30,
   "metadata": {},
   "outputs": [
    {
     "name": "stdout",
     "output_type": "stream",
     "text": [
      "Epoch 1/10\n",
      "184/184 [==============================] - 16s 85ms/step - loss: 0.5328 - accuracy: 0.7561 - val_loss: 0.5347 - val_accuracy: 0.7603\n",
      "Epoch 2/10\n",
      "184/184 [==============================] - 16s 88ms/step - loss: 0.4954 - accuracy: 0.7748 - val_loss: 0.5294 - val_accuracy: 0.7527\n",
      "Epoch 3/10\n",
      "184/184 [==============================] - 16s 88ms/step - loss: 0.4779 - accuracy: 0.7849 - val_loss: 0.5565 - val_accuracy: 0.7712\n",
      "Epoch 4/10\n",
      "184/184 [==============================] - 17s 95ms/step - loss: 0.4788 - accuracy: 0.7808 - val_loss: 0.5038 - val_accuracy: 0.7571\n",
      "Epoch 5/10\n",
      "184/184 [==============================] - 17s 91ms/step - loss: 0.4715 - accuracy: 0.7887 - val_loss: 0.4858 - val_accuracy: 0.7745\n",
      "Epoch 6/10\n",
      "184/184 [==============================] - 17s 94ms/step - loss: 0.4607 - accuracy: 0.7947 - val_loss: 0.4760 - val_accuracy: 0.8061\n",
      "Epoch 7/10\n",
      "184/184 [==============================] - 18s 98ms/step - loss: 0.4625 - accuracy: 0.7941 - val_loss: 0.5248 - val_accuracy: 0.7789\n",
      "Epoch 8/10\n",
      "184/184 [==============================] - 17s 93ms/step - loss: 0.4520 - accuracy: 0.7979 - val_loss: 0.4536 - val_accuracy: 0.7996\n",
      "Epoch 9/10\n",
      "184/184 [==============================] - 15s 83ms/step - loss: 0.4539 - accuracy: 0.7936 - val_loss: 0.4946 - val_accuracy: 0.7680\n",
      "Epoch 10/10\n",
      "184/184 [==============================] - 16s 89ms/step - loss: 0.4377 - accuracy: 0.8047 - val_loss: 0.5736 - val_accuracy: 0.7473\n"
     ]
    }
   ],
   "source": [
    "history = model.fit(\n",
    "    train_ds,\n",
    "    epochs=10,\n",
    "    validation_data=test_ds\n",
    ")"
   ]
  },
  {
   "cell_type": "code",
   "execution_count": 35,
   "metadata": {},
   "outputs": [
    {
     "data": {
      "text/plain": [
       "0.5132924437522888"
      ]
     },
     "execution_count": 35,
     "metadata": {},
     "output_type": "execute_result"
    }
   ],
   "source": [
    "statistics.mean(history.history['val_loss'])"
   ]
  },
  {
   "cell_type": "markdown",
   "metadata": {},
   "source": [
    "# Question 6"
   ]
  },
  {
   "cell_type": "code",
   "execution_count": 36,
   "metadata": {},
   "outputs": [
    {
     "data": {
      "text/plain": [
       "0.7799564123153686"
      ]
     },
     "execution_count": 36,
     "metadata": {},
     "output_type": "execute_result"
    }
   ],
   "source": [
    "statistics.mean(history.history['val_accuracy'][5:])"
   ]
  }
 ],
 "metadata": {
  "kernelspec": {
   "display_name": "mlzc2",
   "language": "python",
   "name": "python3"
  },
  "language_info": {
   "codemirror_mode": {
    "name": "ipython",
    "version": 3
   },
   "file_extension": ".py",
   "mimetype": "text/x-python",
   "name": "python",
   "nbconvert_exporter": "python",
   "pygments_lexer": "ipython3",
   "version": "3.11.5"
  }
 },
 "nbformat": 4,
 "nbformat_minor": 2
}
