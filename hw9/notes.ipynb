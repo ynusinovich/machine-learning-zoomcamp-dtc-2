{
 "cells": [
  {
   "cell_type": "markdown",
   "metadata": {},
   "source": [
    "aws ecr create-repository --repository-name bees-wasps-tflite-images\n"
   ]
  },
  {
   "cell_type": "markdown",
   "metadata": {},
   "source": [
    "\"repositoryUri\": \"614132154255.dkr.ecr.us-east-1.amazonaws.com/bees-wasps-tflite-images\""
   ]
  },
  {
   "cell_type": "markdown",
   "metadata": {},
   "source": [
    "aws ecr get-login-password --region yourregion | docker login --username AWS --password-stdin youraccount.dkr.ecr.us-east-1.amazonaws.com/yourecrnamme\n",
    "\n",
    "aws ecr get-login-password --region us-east-1 | docker login --username AWS --password-stdin 614132154255.dkr.ecr.us-east-1.amazonaws.com"
   ]
  },
  {
   "cell_type": "markdown",
   "metadata": {},
   "source": [
    "ACCOUNT=614132154255\n",
    "\n",
    "REGION=us-east-1\n",
    "\n",
    "REGISTRY=bees-wasps-tflite-images\n",
    "\n",
    "PREFIX=${ACCOUNT}.dkr.ecr.${REGION}.amazonaws.com/${REGISTRY}\n",
    "\n",
    "TAG=001\n",
    "\n",
    "REMOTE_URI=${PREFIX}:${TAG}"
   ]
  },
  {
   "cell_type": "markdown",
   "metadata": {},
   "source": [
    "docker tag bees-wasps-model:latest ${REMOTE_URI}"
   ]
  },
  {
   "cell_type": "markdown",
   "metadata": {},
   "source": [
    "docker push ${REMOTE_URI}"
   ]
  },
  {
   "cell_type": "markdown",
   "metadata": {},
   "source": []
  }
 ],
 "metadata": {
  "language_info": {
   "name": "python"
  }
 },
 "nbformat": 4,
 "nbformat_minor": 2
}
